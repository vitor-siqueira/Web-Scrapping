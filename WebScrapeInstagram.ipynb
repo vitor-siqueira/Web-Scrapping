{
 "cells": [
  {
   "cell_type": "markdown",
   "metadata": {},
   "source": [
    "# Coletando imagens do Instagram usando a biblioteca Selenium\n",
    "\n",
    "Exercício realizado com o auxílio desse vídeo do youtube:\n",
    "https://www.youtube.com/watch?v=iJGvYBH9mcY"
   ]
  },
  {
   "cell_type": "code",
   "execution_count": 8,
   "metadata": {},
   "outputs": [],
   "source": [
    "#Importando o selenium\n",
    "from selenium import webdriver\n",
    "from selenium.webdriver.common.keys import Keys\n",
    "from selenium.webdriver.support import expected_conditions as EC\n",
    "from selenium.webdriver.common.by import By\n",
    "from selenium.webdriver.support.wait import WebDriverWait"
   ]
  },
  {
   "cell_type": "code",
   "execution_count": 9,
   "metadata": {},
   "outputs": [],
   "source": [
    "#Outras importações\n",
    "import os #traz informações sobre o sistema operacional, serve para mexer no sistema de arquivos\n",
    "import wget #serve para fazer download dos arquivos"
   ]
  },
  {
   "cell_type": "markdown",
   "metadata": {},
   "source": [
    "## Download do Chrome Driver\n",
    "\n",
    "Link: https://chromedriver.chromium.org/\n",
    "\n",
    "Para fazer o download do arquivo correto, você precisa saber qual é a versão do seu Google Chrome. Para saber qual é a sua versão autal basta inserir esse caminho em sua URL --> chrome://settings/help"
   ]
  },
  {
   "cell_type": "code",
   "execution_count": 11,
   "metadata": {},
   "outputs": [],
   "source": [
    "#Executando o arquivo Chrome Driver\n",
    "\n",
    "driver = webdriver.Chrome('C:/webdriver/chromedriver.exe')\n",
    "driver.get(\"https://www.instagram.com/\")"
   ]
  },
  {
   "cell_type": "markdown",
   "metadata": {},
   "source": [
    "## Entrando em sua conta do Instagram"
   ]
  },
  {
   "cell_type": "code",
   "execution_count": 27,
   "metadata": {},
   "outputs": [],
   "source": [
    "#Conta vinculada com o facebook\n",
    "#Caso sua conta seja vinculada com o facebook precisa executar esse comando antes\n",
    "\n",
    "facebook = WebDriverWait(driver, 10).until(EC.element_to_be_clickable((By.CSS_SELECTOR, \"button[type='button']\"))).click()"
   ]
  },
  {
   "cell_type": "code",
   "execution_count": 30,
   "metadata": {},
   "outputs": [],
   "source": [
    "nome = WebDriverWait(driver, 10).until(EC.element_to_be_clickable((By.CSS_SELECTOR, \"input[name='email']\")))\n",
    "senha = WebDriverWait(driver, 10).until(EC.element_to_be_clickable((By.CSS_SELECTOR, \"input[name='pass']\")))\n",
    "\n",
    "nome.clear()\n",
    "senha.clear()\n",
    "nome.send_keys(\"\") #nome de usuário do instagram\n",
    "senha.send_keys(\"\") #senha do instagram"
   ]
  },
  {
   "cell_type": "code",
   "execution_count": 31,
   "metadata": {},
   "outputs": [],
   "source": [
    "entrar = WebDriverWait(driver, 10).until(EC.element_to_be_clickable((By.CSS_SELECTOR, \"button[type='submit']\"))).click()"
   ]
  },
  {
   "cell_type": "code",
   "execution_count": 32,
   "metadata": {},
   "outputs": [],
   "source": [
    "agora_nao = WebDriverWait(driver, 10).until(EC.element_to_be_clickable((By.XPATH, \"//button[contains(text(), 'Agora não')]\"))).click()"
   ]
  },
  {
   "cell_type": "code",
   "execution_count": 56,
   "metadata": {},
   "outputs": [],
   "source": [
    "pesquisar = WebDriverWait(driver, 10).until(EC.element_to_be_clickable((By.XPATH, \"//input[@placeholder='Pesquisar']\")))\n",
    "pesquisar.clear()\n",
    "keyword = \"\" #aqui você coloca o que quer pesquisar, exemplo: #luta\n",
    "pesquisar.send_keys(keyword)"
   ]
  },
  {
   "cell_type": "code",
   "execution_count": 58,
   "metadata": {},
   "outputs": [],
   "source": [
    "pesquisar.send_keys(Keys.ENTER)"
   ]
  },
  {
   "cell_type": "code",
   "execution_count": 59,
   "metadata": {},
   "outputs": [
    {
     "data": {
      "text/plain": [
       "['https://instagram.fstu3-1.fna.fbcdn.net/v/t51.2885-19/s150x150/153883877_258466619103865_3168064724995328109_n.jpg?tp=1&_nc_ht=instagram.fstu3-1.fna.fbcdn.net&_nc_ohc=1ikK8Ot4I2gAX9bE28z&oh=e182de08ea592b3cdbd1bee0f4cdc64a&oe=6066547F',\n",
       " 'https://instagram.fstu3-1.fna.fbcdn.net/v/t51.2885-15/sh0.08/e35/s640x640/155223171_270548061134477_3574178484682268062_n.jpg?tp=1&_nc_ht=instagram.fstu3-1.fna.fbcdn.net&_nc_cat=105&_nc_ohc=MRsrZ_FA1zYAX9EwyjY&oh=966fe9a50fcc90174a07a967d6321ae6&oe=60688E4B',\n",
       " 'https://instagram.fstu3-1.fna.fbcdn.net/v/t51.2885-15/sh0.08/e35/s640x640/155001581_1230370077378423_5606436341369783_n.jpg?tp=1&_nc_ht=instagram.fstu3-1.fna.fbcdn.net&_nc_cat=103&_nc_ohc=NqKAIQD1JvYAX9lMOcg&oh=19df516ceaba22cd148296ef85d1106a&oe=60667700',\n",
       " 'https://instagram.fstu3-1.fna.fbcdn.net/v/t51.2885-15/sh0.08/e35/s640x640/154258538_3686595781393968_3382359052798926392_n.jpg?tp=1&_nc_ht=instagram.fstu3-1.fna.fbcdn.net&_nc_cat=100&_nc_ohc=1IYRNflKCjMAX_c8Phe&oh=b87e62169193ca2d03f0c8977fcc5825&oe=60695E6A',\n",
       " 'https://instagram.fstu3-1.fna.fbcdn.net/v/t51.2885-15/sh0.08/e35/s640x640/153702496_1147271199065043_6926567256513968476_n.jpg?tp=1&_nc_ht=instagram.fstu3-1.fna.fbcdn.net&_nc_cat=103&_nc_ohc=0JdsvnjqwlEAX9F5UI-&oh=6774a45ea5d4a32ca995a9796d6fb062&oe=606820B9',\n",
       " 'https://instagram.fstu3-1.fna.fbcdn.net/v/t51.2885-15/sh0.08/e35/s640x640/153244770_2836770663270990_6394403969329032311_n.jpg?tp=1&_nc_ht=instagram.fstu3-1.fna.fbcdn.net&_nc_cat=106&_nc_ohc=XIB58SU91ZUAX_Q9_SL&oh=497412762c6667d9fa8ce24292a6f129&oe=6068357B',\n",
       " 'https://instagram.fstu3-1.fna.fbcdn.net/v/t51.2885-15/sh0.08/e35/s640x640/153159881_332662581498502_6225303678337601623_n.jpg?tp=1&_nc_ht=instagram.fstu3-1.fna.fbcdn.net&_nc_cat=110&_nc_ohc=ykrzdzNmm0oAX8bmkVf&oh=92116663dfbaaa82f8fa6bd166709380&oe=60660DAD',\n",
       " 'https://www.instagram.com/static/images/web/mobile_nav_type_logo.png/735145cfe0a4.png',\n",
       " 'https://instagram.fstu3-1.fna.fbcdn.net/v/t51.2885-19/s150x150/56932080_1131803487000066_2837849007462547456_n.jpg?tp=1&_nc_ht=instagram.fstu3-1.fna.fbcdn.net&_nc_ohc=K2TcxfpKIqkAX-zoPHJ&oh=b941859a919c5a870b7f51c0cafae859&oe=6067854F']"
      ]
     },
     "execution_count": 59,
     "metadata": {},
     "output_type": "execute_result"
    }
   ],
   "source": [
    "#Coletando as imagens\n",
    "\n",
    "driver.execute_script(\"window.scrollTo(0,4000);\")\n",
    "\n",
    "images = driver.find_elements_by_tag_name('img')\n",
    "images = [image.get_attribute('src') for image in images]\n",
    "\n",
    "images"
   ]
  },
  {
   "cell_type": "code",
   "execution_count": 68,
   "metadata": {},
   "outputs": [
    {
     "data": {
      "text/plain": [
       "'C:\\\\Users\\\\Vitor\\\\estrategiadeux'"
      ]
     },
     "execution_count": 68,
     "metadata": {},
     "output_type": "execute_result"
    }
   ],
   "source": [
    "#Criando a pasta a partir do nome que foi pesquisado\n",
    "path = os.getcwd()\n",
    "path = os.path.join(path, keyword[0:] + \"\")\n",
    "\n",
    "os.mkdir(path)\n",
    "path"
   ]
  },
  {
   "cell_type": "code",
   "execution_count": 70,
   "metadata": {},
   "outputs": [
    {
     "name": "stdout",
     "output_type": "stream",
     "text": [
      "100% [................................................................................] 6989 / 6989"
     ]
    }
   ],
   "source": [
    "#Download das imagens da página\n",
    "counter = 0\n",
    "for image in images:\n",
    "    save_as = os.path.join(path, keyword[0:] + str(counter) + '.jpg')\n",
    "    wget.download(image, save_as)\n",
    "    counter += 1"
   ]
  },
  {
   "cell_type": "code",
   "execution_count": null,
   "metadata": {},
   "outputs": [],
   "source": []
  }
 ],
 "metadata": {
  "kernelspec": {
   "display_name": "Python 3",
   "language": "python",
   "name": "python3"
  },
  "language_info": {
   "codemirror_mode": {
    "name": "ipython",
    "version": 3
   },
   "file_extension": ".py",
   "mimetype": "text/x-python",
   "name": "python",
   "nbconvert_exporter": "python",
   "pygments_lexer": "ipython3",
   "version": "3.7.4"
  }
 },
 "nbformat": 4,
 "nbformat_minor": 2
}
